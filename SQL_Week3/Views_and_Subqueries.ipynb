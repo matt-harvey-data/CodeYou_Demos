{
 "cells": [
  {
   "cell_type": "markdown",
   "id": "0d9a48fe",
   "metadata": {},
   "source": [
    "<h1 align='center'>SQL Views</h1>"
   ]
  },
  {
   "cell_type": "markdown",
   "id": "2ad211cc",
   "metadata": {},
   "source": [
    "<h3>What is a View?</h3>"
   ]
  },
  {
   "cell_type": "markdown",
   "id": "0c32202b",
   "metadata": {},
   "source": [
    "**In SQL, a view is a virtual table based on the result-set of an SQL statement.**\n",
    "\n",
    "**A view contains rows and columns, just like a real table. The fields in a view are fields from one or more real tables in the database.**\n",
    "\n",
    "**You can add SQL statements and functions to a view and present the data as if the data were coming from one single table.**\n",
    "\n",
    "https://www.w3schools.com/sql/sql_view.asp\n",
    "    \n",
    "**I'll add additionally views are stored in a DBMS so they persist for utilization into the future. Additionally, if new data were to come into the tables that the view is built off of that data will be present when the view is run in the future. So, essentially, a view is a saved query that you can access via the DBMS at your leisure**\n",
    "\n",
    "**Views by default do not return the query results to the console, however you can write SELECT, INSERT, UPDATE, or DELETE statements against a view as if it were any other table. Each time the view is queried the SQL that created it is run fresh to reflect the current state of it's results**"
   ]
  },
  {
   "cell_type": "markdown",
   "id": "ae35814e",
   "metadata": {},
   "source": [
    "<h3>Declaring a View</h3>"
   ]
  },
  {
   "cell_type": "markdown",
   "id": "426d7c4c",
   "metadata": {},
   "source": [
    "**To declare a view we simply issue 'CREATE VIEW' then provide a name for the view and issue 'AS' then write the SQL statement that the view will be created from. This looks like so:**\n",
    "\n",
    "CREATE VIEW Top3_Crimes_40211 AS\n",
    "\n",
    "SELECT CRIME.OFFENSE_CLASSIFICATION, COUNT(*)\n",
    "\n",
    "FROM CRIME\n",
    "\n",
    "INNER JOIN LOCATION ON CRIME.OBJECT_ID = LOCATION.OBJECT_ID\n",
    "\n",
    "WHERE LOCATION.ZIP_CODE = 40211\n",
    "\n",
    "GROUP BY CRIME.OFFENSE_CLASSIFICATION\n",
    "\n",
    "ORDER BY COUNT(*) DESC\n",
    "\n",
    "LIMIT 3;\n",
    "\n",
    "**We'd then have to write a SELECT statement against this view to see it's results in the console. This would look like:**\n",
    "    \n",
    "SELECT *\n",
    "\n",
    "FROM Top3_Crimes_40211\n",
    "\n",
    "**I don't want to go into great detail about views here, but this is a concept that you should know as it is pretty common to use them in SQL work.**"
   ]
  },
  {
   "cell_type": "markdown",
   "id": "ceca3e0f",
   "metadata": {},
   "source": [
    "<h1 align='center'>Subqueries</h1>"
   ]
  },
  {
   "cell_type": "markdown",
   "id": "24dea495",
   "metadata": {},
   "source": [
    "<h3>What is a Subquery?</h3>"
   ]
  },
  {
   "cell_type": "markdown",
   "id": "cef164a0",
   "metadata": {},
   "source": [
    "**In SQL a Subquery can be simply defined as a query within another query. In other words we can say that a Subquery is a query that is embedded in WHERE clause of another SQL query. Important rules for Subqueries:**\n",
    "    \n",
    "- You can place the Subquery in a number of SQL clauses: WHERE clause, HAVING clause, FROM clause. Subqueries can be used with SELECT, UPDATE, INSERT, DELETE statements along with expression operator. It could be equality operator or comparison operator such as =, >, =, <= and Like operator.\n",
    "    \n",
    "- A subquery is a query within another query. The outer query is called as main query and inner query is called as subquery.\n",
    "\n",
    "- The subquery generally executes first when the subquery doesn’t have any co-relation with the main query, when there is a co-relation the parser takes the decision on the fly on which query to execute on precedence and uses the output of the subquery accordingly.\n",
    "\n",
    "- Subquery must be enclosed in parentheses.\n",
    "\n",
    "- Subqueries are on the right side of the comparison operator.\n",
    "\n",
    "- Use single-row operators with single row Subqueries. Use multiple-row operators with multiple-row Subqueries.\n",
    "\n",
    "https://www.geeksforgeeks.org/sql-subquery/\n",
    "    \n",
    "**Subqueries and views are pretty interchangeable concepts in that they both can create a subset of data which can then be inserted into a query. It is common for example if you want to filter for records that are above the average in a numeric column, you could write a subquery that computed the average and insert it into the where clause like:**\n",
    "\n",
    "SELECT numeric_column\n",
    "\n",
    "FROM TABLE\n",
    "\n",
    "WHERE numeric_column > **(SELECT avg(numeric_column) FROM TABLE)**\n",
    "\n",
    "**To try to make this more clear I'll provide an example of a query with a subquery:**\n",
    "\n",
    "SELECT OFFICER.BADGE_ID, COUNT(*)\n",
    "\n",
    "FROM CRIME\n",
    "\n",
    "INNER JOIN OFFICER ON CRIME.OBJECT_ID = OFFICER.OBJECT_ID\n",
    "\n",
    "INNER JOIN LOCATION ON CRIME.OBJECT_ID = LOCATION.OBJECT_ID\n",
    "\n",
    "WHERE LOCATION.BLOCK_ADDRESS = **(SELECT LOCATION.BLOCK_ADDRESS --Subquery begins at the opening parenthesis**\n",
    "                                \n",
    "**FROM CRIME**\n",
    "                                \n",
    "**INNER JOIN LOCATION ON CRIME.OBJECT_ID = LOCATION.OBJECT_ID**\n",
    "                                \n",
    "**INNER JOIN DATE ON CRIME.OBJECT_ID = DATE.OBJECT_ID**\n",
    "                                \n",
    "**WHERE LOCATION.ZIP_CODE = 40217 AND DATE.DATE_REPORTED >= '2024-01-01'**\n",
    "                                \n",
    "**GROUP BY LOCATION.BLOCK_ADDRESS**\n",
    "                                \n",
    "**ORDER BY COUNT(*) DESC**\n",
    "                                \n",
    "**LIMIT 1)**\n",
    "\n",
    "GROUP BY OFFICER.BADGE_ID\n",
    "\n",
    "ORDER BY COUNT(*) DESC\n",
    "\n",
    "LIMIT 5\n",
    "\n",
    "**In this example the inner query or subquery (the one within the parentheses) SELECTS a block address and returns it in the where condition where the main condition filters for rows that contain that block address.**\n",
    "\n",
    "**Subqueries can be nested much like if/else logic in Python and this can get meta. They are very useful however when you need to pass data into a query that will be obtained from another query.**"
   ]
  },
  {
   "cell_type": "code",
   "execution_count": null,
   "id": "68855000",
   "metadata": {},
   "outputs": [],
   "source": []
  }
 ],
 "metadata": {
  "kernelspec": {
   "display_name": "Python 3 (ipykernel)",
   "language": "python",
   "name": "python3"
  },
  "language_info": {
   "codemirror_mode": {
    "name": "ipython",
    "version": 3
   },
   "file_extension": ".py",
   "mimetype": "text/x-python",
   "name": "python",
   "nbconvert_exporter": "python",
   "pygments_lexer": "ipython3",
   "version": "3.11.7"
  }
 },
 "nbformat": 4,
 "nbformat_minor": 5
}
