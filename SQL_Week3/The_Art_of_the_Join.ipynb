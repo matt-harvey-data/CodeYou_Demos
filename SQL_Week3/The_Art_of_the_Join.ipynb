{
 "cells": [
  {
   "cell_type": "markdown",
   "id": "60f96464",
   "metadata": {},
   "source": [
    "<h1 align='center'>SQL Joins: The Art of the Join</h1>"
   ]
  },
  {
   "cell_type": "markdown",
   "id": "503af004",
   "metadata": {},
   "source": [
    "<h3>What is a SQL Join?</h3>"
   ]
  },
  {
   "cell_type": "markdown",
   "id": "2deb5ac4",
   "metadata": {},
   "source": [
    "**SQL JOIN clause is used to query and access data from multiple tables by establishing logical relationships between them. It can access data from multiple tables simultaneously using common key values shared across different tables. We can use SQL JOIN with multiple tables. It can also be paired with other clauses, the most popular use will be using JOIN with WHERE clause to filter data retrieval.**\n",
    "\n",
    "https://www.geeksforgeeks.org/sql-join-set-1-inner-left-right-and-full-joins/\n",
    "    \n",
    "**It's worth noting that SQL JOINS are often nested, meaning that if you are joining more than two tables then your SQL statements can have more than one join. Typically a JOIN per table for each table beyond one. I highly suggest putting each JOIN on it's own line to keep all of this straight.**\n",
    "\n",
    "**I'll also note aliasing is extremely common (and far too often lazy) when stringing joins together. This is one place I am more lenient on the laziness when creating alias names. An example might be:**\n",
    "\n",
    "**FROM crime AS A**\n",
    "\n",
    "**INNER JOIN location AS B ON a.key = b.key**\n",
    "\n",
    "**INNER JOIN officer AS C ON a.key = c.key**\n",
    "\n",
    "**...etc**\n",
    "\n",
    "**Part of the reason I am more willing to overlook the laziness in this instance is in the SELECT statement when selecting columns the aliases can be referenced, for example:**\n",
    "    \n",
    "**SELECT a.crime_type, a.date_of_offense, b.street_address, c.badge_number**\n",
    "\n",
    "**When selecting large numbers of fields writing out the full table name gets typing intensive, so more lazy table aliases can be a major time saver.**"
   ]
  },
  {
   "cell_type": "markdown",
   "id": "c7161523",
   "metadata": {},
   "source": [
    "<h3>Types of SQL Joins</h3>"
   ]
  },
  {
   "cell_type": "markdown",
   "id": "04ad262c",
   "metadata": {},
   "source": [
    "<img src='SQL_Joins_Types.webp'>"
   ]
  },
  {
   "cell_type": "markdown",
   "id": "747bbd88",
   "metadata": {},
   "source": [
    "**top left - LEFT JOIN - middle left - LEFT JOIN EXCLUSIVE - bottom left - FULL JOIN**\n",
    "\n",
    "**center - INNER JOIN**\n",
    "\n",
    "**top right - RIGHT JOIN - middle right - RIGHT JOIN EXCLUSIVE - right bottom - FULL JOIN EXCLUSIVE**"
   ]
  },
  {
   "cell_type": "markdown",
   "id": "267fa3fd",
   "metadata": {},
   "source": [
    "**Not all joins are created equal, but they all contain an '='. Ok. I just wanted to say that.**"
   ]
  },
  {
   "cell_type": "markdown",
   "id": "e49a5622",
   "metadata": {},
   "source": [
    "<h3 align='center'>INNER JOIN</h3>"
   ]
  },
  {
   "cell_type": "markdown",
   "id": "743d761b",
   "metadata": {},
   "source": [
    "**An INNER JOIN is one of the table joins in SQL and the simplest JOIN amongst them all. The INNER JOIN keyword selects records that have a common matching value between them. It selects all rows from both tables as long as the condition is met - that there’s a common matching value between them. If there are records in one table that do not have matches in the other table, there would be no result set.**\n",
    "\n",
    "https://www.dbvis.com/thetable/sql-cheat-sheet-every-join-explained/\n",
    "\n",
    "**INNER JOINs are kind of ideal for one to one relationships, and can cause a lot of data loss if the relationship is not one to one.**"
   ]
  },
  {
   "cell_type": "markdown",
   "id": "0fbf9f50",
   "metadata": {},
   "source": [
    "<h3 align='center'>OUTER JOIN (LEFT OR RIGHT)</h3>"
   ]
  },
  {
   "cell_type": "markdown",
   "id": "0c0d0ca5",
   "metadata": {},
   "source": [
    "**A LEFT JOIN, sometimes referred to as a LEFT OUTER JOIN, returns all records from the left side of the join (table1), and the matching records from the right side of the join (table2). The result is NULL from the right side if there is no match. The term \"outer\" is simply used to differentiate this type of join from an INNER JOIN, which only returns rows that have matching values in both tables being joined. The syntax for a LEFT JOIN is as follows:**\n",
    "    \n",
    "https://www.dbvis.com/thetable/sql-cheat-sheet-every-join-explained/\n",
    "    \n",
    "**The converse is also true for a RIGHT JOIN but in reverse. Left or right refers to which side a table sits of the = in the join statement. For example if your statement is joined on a.key = b.key then a is the left table and b is the right table.**\n",
    "\n",
    "**LEFT or RIGHT outer joins are ideal for situation where the relationship is one to many (or any kind of relationship that includes a possible zero.) Generally you want whichever table is on the one side of the relationship to be on the 'all' side of the join. To clarify in a LEFT JOIN the left table is the all side, and the result will include any record in table a along with any matches on the other side. This results in at least one record for every row, but also a record if there is a row on the 'all side' with no match on the 'other side.' This record would have all null values on the 'other side.'**"
   ]
  },
  {
   "cell_type": "markdown",
   "id": "0b62bded",
   "metadata": {},
   "source": [
    "<h3 align='center'>OUTER JOIN (LEFT OR RIGHT) EXCLUSIVE</h3>"
   ]
  },
  {
   "cell_type": "markdown",
   "id": "8ac5361f",
   "metadata": {},
   "source": [
    "**You could also use this LEFT JOIN code with an additional filter clause added to select only the records where there is no matching record in Table 2. This query would return all rows from table1 and any matching rows from table2 based on the join condition, where the key value in table2 is null. If there are no matching rows in Table 2, the result will still include the rows from Table 1, but the columns from Table 2 will be NULL.**\n",
    "\n",
    "https://www.dbvis.com/thetable/sql-cheat-sheet-every-join-explained/\n",
    "    \n",
    "**The 'exclusive' types are kind of a niche type where your use case is studying the situations where there would not be a record on a particular side of a table. Let's consider an e-commerce site. They might be interested in studying instances where a customer put an item in their cart but never checked out and ordered it. If you have a table of items put in carts related to a table of checkouts they could use this kind of join to find records where there is no checkout associated with a cart addition.**"
   ]
  },
  {
   "cell_type": "markdown",
   "id": "7d93b0d6",
   "metadata": {},
   "source": [
    "<h3 align='center'>FULL JOIN</h3>"
   ]
  },
  {
   "cell_type": "markdown",
   "id": "553250c2",
   "metadata": {},
   "source": [
    "**A FULL JOIN returns all records when there is a match in the left (table1) or right (table2) table records. This simply means it creates the result set by combining the results of both LEFT JOIN and RIGHT JOIN. However, the result will be NULL for the rows for which there is no match.**\n",
    "\n",
    "https://www.dbvis.com/thetable/sql-cheat-sheet-every-join-explained/\n",
    "    \n",
    "**FULL JOINS tend to lead to issues with data redundancy because of their attempt to be comprehensive. They can be employed to attempt to unravel many to many relationships, but I'd generally suggest against it.**"
   ]
  },
  {
   "cell_type": "code",
   "execution_count": null,
   "id": "2d25204c",
   "metadata": {},
   "outputs": [],
   "source": []
  }
 ],
 "metadata": {
  "kernelspec": {
   "display_name": "Python 3 (ipykernel)",
   "language": "python",
   "name": "python3"
  },
  "language_info": {
   "codemirror_mode": {
    "name": "ipython",
    "version": 3
   },
   "file_extension": ".py",
   "mimetype": "text/x-python",
   "name": "python",
   "nbconvert_exporter": "python",
   "pygments_lexer": "ipython3",
   "version": "3.11.7"
  }
 },
 "nbformat": 4,
 "nbformat_minor": 5
}
